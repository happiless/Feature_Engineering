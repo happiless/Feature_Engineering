{
 "cells": [
  {
   "cell_type": "markdown",
   "id": "regulation-debut",
   "metadata": {},
   "source": [
    "### 电商产品评论数据情感分析"
   ]
  },
  {
   "cell_type": "markdown",
   "id": "massive-mobility",
   "metadata": {},
   "source": [
    "##### 分析方法和过程"
   ]
  },
  {
   "cell_type": "markdown",
   "id": "final-consistency",
   "metadata": {},
   "source": [
    "##### 评论数据采集"
   ]
  },
  {
   "cell_type": "code",
   "execution_count": null,
   "id": "interested-fellowship",
   "metadata": {},
   "outputs": [],
   "source": []
  }
 ],
 "metadata": {
  "kernelspec": {
   "display_name": "Python 3",
   "language": "python",
   "name": "python3"
  },
  "language_info": {
   "codemirror_mode": {
    "name": "ipython",
    "version": 3
   },
   "file_extension": ".py",
   "mimetype": "text/x-python",
   "name": "python",
   "nbconvert_exporter": "python",
   "pygments_lexer": "ipython3",
   "version": "3.8.0"
  }
 },
 "nbformat": 4,
 "nbformat_minor": 5
}
